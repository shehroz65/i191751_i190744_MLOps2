{
 "cells": [
  {
   "cell_type": "code",
   "execution_count": 1,
   "id": "6ea5cabc",
   "metadata": {},
   "outputs": [
    {
     "name": "stderr",
     "output_type": "stream",
     "text": [
      "C:\\Users\\HP\\anaconda3\\lib\\site-packages\\scipy\\__init__.py:138: UserWarning: A NumPy version >=1.16.5 and <1.23.0 is required for this version of SciPy (detected version 1.23.1)\n",
      "  warnings.warn(f\"A NumPy version >={np_minversion} and <{np_maxversion} is required for this version of \"\n"
     ]
    }
   ],
   "source": [
    "from flask import Flask, render_template, request\n",
    "import pickle\n",
    "from sklearn import preprocessing\n",
    "import yfinance as yf\n",
    "from datetime import datetime, timedelta\n",
    "import numpy as np\n",
    "import math\n",
    "import pandas as pd\n",
    "app = Flask(__name__)"
   ]
  },
  {
   "cell_type": "code",
   "execution_count": 2,
   "id": "2a4e9981",
   "metadata": {},
   "outputs": [],
   "source": [
    "def RMSE(l1, l2):\n",
    "    l1 = [1,2,3,4,5]\n",
    "    l2 = [1.6,2.5,2.9,3,4.1]\n",
    "\n",
    "    MSE = np.square(np.subtract(l1,l2)).mean() \n",
    "\n",
    "    rmse = math.sqrt(MSE)\n",
    "    \n",
    "    return rmse"
   ]
  },
  {
   "cell_type": "code",
   "execution_count": 3,
   "id": "01edc5e5",
   "metadata": {},
   "outputs": [],
   "source": [
    "def get_live_data(sd, ed):\n",
    "    df = yf.download(\"AAPL\", start = sd, end=ed)\n",
    "    df = df.reset_index().rename(columns={'date': 'new_column'})\n",
    "    df.drop(columns = ['Open', 'High', 'Low', 'Adj Close', 'Volume'], axis = 1, inplace = True)\n",
    "    df.dropna(inplace = True)\n",
    "    df['Date'] = pd.to_datetime(df['Date'])\n",
    "\n",
    "    # Extract year, month, day, and weekday features from the Date column\n",
    "    df['Year'] = df['Date'].dt.year\n",
    "    df['Month'] = df['Date'].dt.month\n",
    "    df['Day'] = df['Date'].dt.day\n",
    "    df['Weekday'] = df['Date'].dt.weekday\n",
    "\n",
    "    # Weekday is represented as an integer, so you can convert it to a string if needed\n",
    "    df['Weekday'] = df['Weekday'].apply(lambda x: pd.Timestamp(2022, 1, x+1).strftime(\"%A\"))\n",
    "    # Import label encoder\n",
    "  \n",
    "    # label_encoder object knows how to understand word labels.\n",
    "    label_encoder = preprocessing.LabelEncoder()\n",
    "\n",
    "    # Encode labels in column 'species'.\n",
    "    df['Weekday']= label_encoder.fit_transform(df['Weekday'])\n",
    "\n",
    "    df.drop(columns = ['Date'], axis = 1, inplace = True)\n",
    "    \n",
    "    return df"
   ]
  },
  {
   "cell_type": "code",
   "execution_count": 4,
   "id": "ba5b5642",
   "metadata": {},
   "outputs": [],
   "source": [
    "    \n",
    "# Load the pickled model from file\n",
    "with open('model.pkl', 'rb') as f:\n",
    "    model = pickle.load(f)"
   ]
  },
  {
   "cell_type": "code",
   "execution_count": 5,
   "id": "b5192f43",
   "metadata": {},
   "outputs": [],
   "source": [
    "@app.route('/')\n",
    "def dashboard():\n",
    "    start_date = '2016-01-01'\n",
    "    end_date = datetime.today().strftime(\"%Y-%m-%d\")\n",
    "    # get live data\n",
    "    data = get_live_data(start_date, end_date)\n",
    "    #print(data)\n",
    "    label = list(data['Close'])\n",
    "    data = data.drop(columns = ['Close'], axis = 1)\n",
    "    # make predictions using the model\n",
    "    pred = model.predict(data)\n",
    "    # calculate accuracy\n",
    "    rmse = RMSE(label, pred)\n",
    "    print(rmse)\n",
    "    # render the dashboard template with the results\n",
    "    # , data=data, pred=pred, acc=acc\n",
    "    return render_template('dashboard.html', data=data, pred=pred, acc=rmse)"
   ]
  },
  {
   "cell_type": "code",
   "execution_count": null,
   "id": "89941e46",
   "metadata": {
    "scrolled": true
   },
   "outputs": [
    {
     "name": "stdout",
     "output_type": "stream",
     "text": [
      " * Serving Flask app \"__main__\" (lazy loading)\n",
      " * Environment: production\n",
      "   WARNING: This is a development server. Do not use it in a production deployment.\n",
      "   Use a production WSGI server instead.\n",
      " * Debug mode: off\n"
     ]
    },
    {
     "name": "stderr",
     "output_type": "stream",
     "text": [
      " * Running on http://127.0.0.1:5000/ (Press CTRL+C to quit)\n"
     ]
    },
    {
     "name": "stdout",
     "output_type": "stream",
     "text": [
      "\r",
      "[*********************100%***********************]  1 of 1 completed"
     ]
    },
    {
     "name": "stderr",
     "output_type": "stream",
     "text": [
      "127.0.0.1 - - [24/Mar/2023 09:35:19] \"\u001b[37mGET / HTTP/1.1\u001b[0m\" 200 -\n"
     ]
    },
    {
     "name": "stdout",
     "output_type": "stream",
     "text": [
      "\n",
      "0.6971370023173351\n"
     ]
    }
   ],
   "source": [
    "if __name__ == '__main__':\n",
    "    app.run(debug=False, use_reloader=False)\n",
    "\n",
    "   # app.run(debug=True)\n"
   ]
  },
  {
   "cell_type": "code",
   "execution_count": null,
   "id": "d0c0064a",
   "metadata": {},
   "outputs": [],
   "source": []
  }
 ],
 "metadata": {
  "kernelspec": {
   "display_name": "Python 3",
   "language": "python",
   "name": "python3"
  },
  "language_info": {
   "codemirror_mode": {
    "name": "ipython",
    "version": 3
   },
   "file_extension": ".py",
   "mimetype": "text/x-python",
   "name": "python",
   "nbconvert_exporter": "python",
   "pygments_lexer": "ipython3",
   "version": "3.8.8"
  }
 },
 "nbformat": 4,
 "nbformat_minor": 5
}
